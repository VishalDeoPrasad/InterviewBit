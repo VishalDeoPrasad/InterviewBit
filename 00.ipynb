{
 "cells": [
  {
   "cell_type": "code",
   "execution_count": 6,
   "metadata": {},
   "outputs": [
    {
     "data": {
      "text/plain": [
       "['the', 'sky', 'is', 'blue']"
      ]
     },
     "execution_count": 6,
     "metadata": {},
     "output_type": "execute_result"
    }
   ],
   "source": [
    "a = \"the sky is blue\"\n",
    "a_ = a.split()\n",
    "a_"
   ]
  },
  {
   "cell_type": "code",
   "execution_count": 13,
   "metadata": {},
   "outputs": [],
   "source": [
    "n = len(a_)\n",
    "for i in range(n//2):\n",
    "    j = n-i-1\n",
    "    a_[i], a_[j] = a_[j], a_[i]"
   ]
  },
  {
   "cell_type": "code",
   "execution_count": 19,
   "metadata": {},
   "outputs": [
    {
     "data": {
      "text/plain": [
       "'blue is sky the'"
      ]
     },
     "execution_count": 19,
     "metadata": {},
     "output_type": "execute_result"
    }
   ],
   "source": [
    "\" \".join(word for word in a_)"
   ]
  },
  {
   "cell_type": "code",
   "execution_count": 18,
   "metadata": {},
   "outputs": [
    {
     "name": "stdout",
     "output_type": "stream",
     "text": [
      "Hello World\n"
     ]
    },
    {
     "data": {
      "text/plain": [
       "'World Hello'"
      ]
     },
     "execution_count": 18,
     "metadata": {},
     "output_type": "execute_result"
    }
   ],
   "source": [
    "A = \"Hello World\"\n",
    "print(A)\n",
    "' '.join(A.strip().split(' ')[::-1])"
   ]
  },
  {
   "cell_type": "code",
   "execution_count": 5,
   "metadata": {},
   "outputs": [
    {
     "name": "stdout",
     "output_type": "stream",
     "text": [
      "1\n",
      "11\n",
      "121\n",
      "1331\n"
     ]
    }
   ],
   "source": [
    "for i in range(3+1):\n",
    "    print(11**i)"
   ]
  },
  {
   "cell_type": "code",
   "execution_count": 8,
   "metadata": {},
   "outputs": [],
   "source": [
    "p = 11**3"
   ]
  },
  {
   "cell_type": "code",
   "execution_count": 10,
   "metadata": {},
   "outputs": [],
   "source": [
    "p = list(str(p))"
   ]
  },
  {
   "cell_type": "code",
   "execution_count": 1,
   "metadata": {},
   "outputs": [
    {
     "data": {
      "text/plain": [
       "161051"
      ]
     },
     "execution_count": 1,
     "metadata": {},
     "output_type": "execute_result"
    }
   ],
   "source": [
    "11**5"
   ]
  },
  {
   "cell_type": "code",
   "execution_count": 2,
   "metadata": {},
   "outputs": [
    {
     "data": {
      "text/plain": [
       "{'a': 1, 'b': 1, 'c': 4, 'd': 2}"
      ]
     },
     "execution_count": 2,
     "metadata": {},
     "output_type": "execute_result"
    }
   ],
   "source": [
    "word_dic = {}\n",
    "s = \"abccccdd\"\n",
    "for ch in s:\n",
    "    if ch not in word_dic:\n",
    "        word_dic[ch] = 1\n",
    "    else:\n",
    "        word_dic[ch] += 1\n",
    "word_dic"
   ]
  },
  {
   "cell_type": "code",
   "execution_count": 3,
   "metadata": {},
   "outputs": [
    {
     "data": {
      "text/plain": [
       "1"
      ]
     },
     "execution_count": 3,
     "metadata": {},
     "output_type": "execute_result"
    }
   ],
   "source": [
    "word_dic['a']"
   ]
  },
  {
   "cell_type": "code",
   "execution_count": 5,
   "metadata": {},
   "outputs": [
    {
     "name": "stdout",
     "output_type": "stream",
     "text": [
      "2\n"
     ]
    }
   ],
   "source": [
    "s = 'bb'\n",
    "word_dic = {}\n",
    "for ch in s:\n",
    "    if ch not in word_dic:\n",
    "        word_dic[ch] = 1\n",
    "    else:\n",
    "        word_dic[ch] += 1\n",
    "odd = 0\n",
    "for key, value in word_dic.items():\n",
    "    odd += word_dic[key]%2\n",
    "print(len(s)-odd+1 if odd > 0 else len(s))"
   ]
  },
  {
   "cell_type": "code",
   "execution_count": 4,
   "metadata": {},
   "outputs": [
    {
     "data": {
      "text/plain": [
       "True"
      ]
     },
     "execution_count": 4,
     "metadata": {},
     "output_type": "execute_result"
    }
   ],
   "source": [
    "\"b\" > \"a\""
   ]
  },
  {
   "cell_type": "code",
   "execution_count": 10,
   "metadata": {},
   "outputs": [
    {
     "data": {
      "text/plain": [
       "[['a', 'b', 'c', 'd', 'e'],\n",
       " ['f', 'g', 'h', 'i', 'j'],\n",
       " ['k', 'l', 'm', 'n', 'o'],\n",
       " ['p', 'q', 'r', 's', 't'],\n",
       " ['u', 'v', 'w', 'x', 'y']]"
      ]
     },
     "execution_count": 10,
     "metadata": {},
     "output_type": "execute_result"
    }
   ],
   "source": [
    "grid = ['ebacd', 'fghij', 'olmkn', 'trpqs', 'xywuv']\n",
    "for i in range(len(grid)):\n",
    "    grid[i] = list(grid[i])\n",
    "    grid[i].sort()\n",
    "grid"
   ]
  },
  {
   "cell_type": "code",
   "execution_count": 6,
   "metadata": {},
   "outputs": [
    {
     "ename": "AttributeError",
     "evalue": "'str' object has no attribute 'sort'",
     "output_type": "error",
     "traceback": [
      "\u001b[1;31m---------------------------------------------------------------------------\u001b[0m",
      "\u001b[1;31mAttributeError\u001b[0m                            Traceback (most recent call last)",
      "Cell \u001b[1;32mIn[6], line 1\u001b[0m\n\u001b[1;32m----> 1\u001b[0m \u001b[39m\"\u001b[39;49m\u001b[39macbda\u001b[39;49m\u001b[39m\"\u001b[39;49m\u001b[39m.\u001b[39;49msort()\n",
      "\u001b[1;31mAttributeError\u001b[0m: 'str' object has no attribute 'sort'"
     ]
    }
   ],
   "source": [
    "\"acbda\".sort()"
   ]
  },
  {
   "cell_type": "code",
   "execution_count": 16,
   "metadata": {},
   "outputs": [],
   "source": [
    "a = \"   a ci f ved pu vkfzbu bnbvlvgkua imjd hrrnx nopp p kso iejgcd wyalgcxie yfslfzzw lygatpbv wr budfobxsm   \"\n",
    "print(Solution().solve(a))"
   ]
  },
  {
   "cell_type": "code",
   "execution_count": 2,
   "metadata": {},
   "outputs": [
    {
     "data": {
      "text/plain": [
       "'a ci f ved pu vkfzbu bnbvlvgkua imjd hrrnx nopp p kso iejgcd wyalgcxie yfslfzzw lygatpbv wr budfobxsm'"
      ]
     },
     "execution_count": 2,
     "metadata": {},
     "output_type": "execute_result"
    }
   ],
   "source": [
    "a.strip()"
   ]
  },
  {
   "cell_type": "code",
   "execution_count": 13,
   "metadata": {},
   "outputs": [],
   "source": [
    "class Solution:\n",
    "    # @param A : string\n",
    "    # @return a strings\n",
    "    def reverse(self,A,s,e):\n",
    "        while s<e:\n",
    "            A[s],A[e] = A[e],A[s]\n",
    "            s += 1\n",
    "            e -= 1\n",
    "        return A\n",
    "            \n",
    "\n",
    "    def solve(self, A):\n",
    "        A = list(A)\n",
    "        A = self.reverse(A,0,len(A)-1)\n",
    "        A.append(\" \")\n",
    "        i,j =0,0\n",
    "        while j<len(A):\n",
    "            while A[j] != \" \":\n",
    "                j += 1\n",
    "            \n",
    "            A = self.reverse(A,i,j-1)\n",
    "            j += 1\n",
    "            i = j\n",
    "        \n",
    "        A = \"\".join(A)\n",
    "        return A.strip()"
   ]
  },
  {
   "cell_type": "code",
   "execution_count": 17,
   "metadata": {},
   "outputs": [
    {
     "name": "stdout",
     "output_type": "stream",
     "text": [
      "budfobxsm wr lygatpbv yfslfzzw wyalgcxie iejgcd kso p nopp hrrnx imjd bnbvlvgkua vkfzbu pu ved f ci a\n"
     ]
    }
   ],
   "source": [
    "print(Solution().solve(a))"
   ]
  },
  {
   "cell_type": "code",
   "execution_count": 15,
   "metadata": {},
   "outputs": [],
   "source": [
    "class Solution:\n",
    "    # @param A : string\n",
    "    # @return a strings\n",
    "    def reverse(self,A,s,e):\n",
    "        while s<e:\n",
    "            A[s],A[e] = A[e],A[s]\n",
    "            s += 1\n",
    "            e -= 1\n",
    "        return A\n",
    "    def strip(self, A):\n",
    "        for i in range(len(A)):\n",
    "            if A[i] != \" \":\n",
    "                A = A[i:]\n",
    "                break \n",
    "        for i in range(len(A)-1,-1,-1):\n",
    "            if A[i] != \" \":\n",
    "                A = A[:i+1]\n",
    "                break\n",
    "        return A     \n",
    "\n",
    "    def solve(self, A):\n",
    "        A = list(A)\n",
    "        A = self.reverse(A,0,len(A)-1)\n",
    "        A.append(\" \")\n",
    "        i,j =0,0\n",
    "        while j<len(A):\n",
    "            while A[j] != \" \":\n",
    "                j += 1\n",
    "            \n",
    "            A = self.reverse(A,i,j-1)\n",
    "            j += 1\n",
    "            i = j\n",
    "        \n",
    "        A = \"\".join(A)\n",
    "        A = self.strip(A)\n",
    "        return A"
   ]
  },
  {
   "cell_type": "code",
   "execution_count": null,
   "metadata": {},
   "outputs": [],
   "source": [
    "def prefixSum(self,A,B):\n",
    "        aux = []\n",
    "        curr = sum(A[:B])\n",
    "        aux.append(curr)\n",
    "        for i in range(B, len(A)):\n",
    "            curr = curr+A[i]-A[i-B]\n",
    "            aux.append(curr)\n",
    "        return aux\n",
    "\n",
    "print(prefixSum([1,2,3,4,5], 3))"
   ]
  }
 ],
 "metadata": {
  "kernelspec": {
   "display_name": "Python 3",
   "language": "python",
   "name": "python3"
  },
  "language_info": {
   "codemirror_mode": {
    "name": "ipython",
    "version": 3
   },
   "file_extension": ".py",
   "mimetype": "text/x-python",
   "name": "python",
   "nbconvert_exporter": "python",
   "pygments_lexer": "ipython3",
   "version": "3.10.11"
  },
  "orig_nbformat": 4,
  "vscode": {
   "interpreter": {
    "hash": "f8048d823ac758c079b9f29ef30bbbc9b1138746b4add2d8fb5759ec4a242e2c"
   }
  }
 },
 "nbformat": 4,
 "nbformat_minor": 2
}
