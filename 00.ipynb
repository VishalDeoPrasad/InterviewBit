{
 "cells": [
  {
   "cell_type": "code",
   "execution_count": 6,
   "metadata": {},
   "outputs": [ 
    {
     "data": {
      "text/plain": [
       "['the', 'sky', 'is', 'blue']"
      ]
     },
     "execution_count": 6,
     "metadata": {},
     "output_type": "execute_result"
    }
   ],
   "source": [
    "a = \"the sky is blue\"\n",
    "a_ = a.split()\n",
    "a_"
   ]
  },
  {
   "cell_type": "code",
   "execution_count": 13,
   "metadata": {},
   "outputs": [],
   "source": [
    "n = len(a_)\n",
    "for i in range(n//2):\n",
    "    j = n-i-1\n",
    "    a_[i], a_[j] = a_[j], a_[i]"
   ]
  },
  {
   "cell_type": "code",
   "execution_count": 19,
   "metadata": {},
   "outputs": [
    {
     "data": {
      "text/plain": [
       "'blue is sky the'"
      ]
     },
     "execution_count": 19,
     "metadata": {},
     "output_type": "execute_result"
    }
   ],
   "source": [
    "\" \".join(word for word in a_)"
   ]
  },
  {
   "cell_type": "code",
   "execution_count": 18,
   "metadata": {},
   "outputs": [
    {
     "name": "stdout",
     "output_type": "stream",
     "text": [
      "Hello World\n"
     ]
    },
    {
     "data": {
      "text/plain": [
       "'World Hello'"
      ]
     },
     "execution_count": 18,
     "metadata": {},
     "output_type": "execute_result"
    }
   ],
   "source": [
    "A = \"Hello World\"\n",
    "print(A)\n",
    "' '.join(A.strip().split(' ')[::-1])"
   ]
  },
  {
   "cell_type": "code",
   "execution_count": 5,
   "metadata": {},
   "outputs": [
    {
     "name": "stdout",
     "output_type": "stream",
     "text": [
      "1\n",
      "11\n",
      "121\n",
      "1331\n"
     ]
    }
   ],
   "source": [
    "for i in range(3+1):\n",
    "    print(11**i)"
   ]
  },
  {
   "cell_type": "code",
   "execution_count": 8,
   "metadata": {},
   "outputs": [],
   "source": [
    "p = 11**3"
   ]
  },
  {
   "cell_type": "code",
   "execution_count": 10,
   "metadata": {},
   "outputs": [],
   "source": [
    "p = list(str(p))"
   ]
  },
  {
   "cell_type": "code",
   "execution_count": 1,
   "metadata": {},
   "outputs": [
    {
     "data": {
      "text/plain": [
       "161051"
      ]
     },
     "execution_count": 1,
     "metadata": {},
     "output_type": "execute_result"
    }
   ],
   "source": [
    "11**5"
   ]
  },
  {
   "cell_type": "code",
   "execution_count": 2,
   "metadata": {},
   "outputs": [
    {
     "data": {
      "text/plain": [
       "{'a': 1, 'b': 1, 'c': 4, 'd': 2}"
      ]
     },
     "execution_count": 2,
     "metadata": {},
     "output_type": "execute_result"
    }
   ],
   "source": [
    "word_dic = {}\n",
    "s = \"abccccdd\"\n",
    "for ch in s:\n",
    "    if ch not in word_dic:\n",
    "        word_dic[ch] = 1\n",
    "    else:\n",
    "        word_dic[ch] += 1\n",
    "word_dic"
   ]
  },
  {
   "cell_type": "code",
   "execution_count": 3,
   "metadata": {},
   "outputs": [
    {
     "data": {
      "text/plain": [
       "1"
      ]
     },
     "execution_count": 3,
     "metadata": {},
     "output_type": "execute_result"
    }
   ],
   "source": [
    "word_dic['a']"
   ]
  },
  {
   "cell_type": "code",
   "execution_count": 5,
   "metadata": {},
   "outputs": [
    {
     "name": "stdout",
     "output_type": "stream",
     "text": [
      "2\n"
     ]
    }
   ],
   "source": [
    "s = 'bb'\n",
    "word_dic = {}\n",
    "for ch in s:\n",
    "    if ch not in word_dic:\n",
    "        word_dic[ch] = 1\n",
    "    else:\n",
    "        word_dic[ch] += 1\n",
    "odd = 0\n",
    "for key, value in word_dic.items():\n",
    "    odd += word_dic[key]%2\n",
    "print(len(s)-odd+1 if odd > 0 else len(s))"
   ]
  },
  {
   "cell_type": "code",
   "execution_count": 4,
   "metadata": {},
   "outputs": [
    {
     "data": {
      "text/plain": [
       "True"
      ]
     },
     "execution_count": 4,
     "metadata": {},
     "output_type": "execute_result"
    }
   ],
   "source": [
    "\"b\" > \"a\""
   ]
  },
  {
   "cell_type": "code",
   "execution_count": 10,
   "metadata": {},
   "outputs": [
    {
     "data": {
      "text/plain": [
       "[['a', 'b', 'c', 'd', 'e'],\n",
       " ['f', 'g', 'h', 'i', 'j'],\n",
       " ['k', 'l', 'm', 'n', 'o'],\n",
       " ['p', 'q', 'r', 's', 't'],\n",
       " ['u', 'v', 'w', 'x', 'y']]"
      ]
     },
     "execution_count": 10,
     "metadata": {},
     "output_type": "execute_result"
    }
   ],
   "source": [
    "grid = ['ebacd', 'fghij', 'olmkn', 'trpqs', 'xywuv']\n",
    "for i in range(len(grid)):\n",
    "    grid[i] = list(grid[i])\n",
    "    grid[i].sort()\n",
    "grid"
   ]
  },
  {
   "cell_type": "code",
   "execution_count": 6,
   "metadata": {},
   "outputs": [
    {
     "ename": "AttributeError",
     "evalue": "'str' object has no attribute 'sort'",
     "output_type": "error",
     "traceback": [
      "\u001b[1;31m---------------------------------------------------------------------------\u001b[0m",
      "\u001b[1;31mAttributeError\u001b[0m                            Traceback (most recent call last)",
      "Cell \u001b[1;32mIn[6], line 1\u001b[0m\n\u001b[1;32m----> 1\u001b[0m \u001b[39m\"\u001b[39;49m\u001b[39macbda\u001b[39;49m\u001b[39m\"\u001b[39;49m\u001b[39m.\u001b[39;49msort()\n",
      "\u001b[1;31mAttributeError\u001b[0m: 'str' object has no attribute 'sort'"
     ]
    }
   ],
   "source": [
    "\"acbda\".sort()"
   ]
  },
  {
   "cell_type": "code",
   "execution_count": 16,
   "metadata": {},
   "outputs": [],
   "source": [
    "a = \"   a ci f ved pu vkfzbu bnbvlvgkua imjd hrrnx nopp p kso iejgcd wyalgcxie yfslfzzw lygatpbv wr budfobxsm   \"\n",
    "print(Solution().solve(a))"
   ]
  },
  {
   "cell_type": "code",
   "execution_count": 2,
   "metadata": {},
   "outputs": [
    {
     "data": {
      "text/plain": [
       "'a ci f ved pu vkfzbu bnbvlvgkua imjd hrrnx nopp p kso iejgcd wyalgcxie yfslfzzw lygatpbv wr budfobxsm'"
      ]
     },
     "execution_count": 2,
     "metadata": {},
     "output_type": "execute_result"
    }
   ],
   "source": [
    "a.strip()"
   ]
  },
  {
   "cell_type": "code",
   "execution_count": 13,
   "metadata": {},
   "outputs": [],
   "source": [
    "class Solution:\n",
    "    # @param A : string\n",
    "    # @return a strings\n",
    "    def reverse(self,A,s,e):\n",
    "        while s<e:\n",
    "            A[s],A[e] = A[e],A[s]\n",
    "            s += 1\n",
    "            e -= 1\n",
    "        return A\n",
    "            \n",
    "\n",
    "    def solve(self, A):\n",
    "        A = list(A)\n",
    "        A = self.reverse(A,0,len(A)-1)\n",
    "        A.append(\" \")\n",
    "        i,j =0,0\n",
    "        while j<len(A):\n",
    "            while A[j] != \" \":\n",
    "                j += 1\n",
    "            \n",
    "            A = self.reverse(A,i,j-1)\n",
    "            j += 1\n",
    "            i = j\n",
    "        \n",
    "        A = \"\".join(A)\n",
    "        return A.strip()"
   ]
  },
  {
   "cell_type": "code",
   "execution_count": 17,
   "metadata": {},
   "outputs": [
    {
     "name": "stdout",
     "output_type": "stream",
     "text": [
      "budfobxsm wr lygatpbv yfslfzzw wyalgcxie iejgcd kso p nopp hrrnx imjd bnbvlvgkua vkfzbu pu ved f ci a\n"
     ]
    }
   ],
   "source": [
    "print(Solution().solve(a))"
   ]
  },
  {
   "cell_type": "code",
   "execution_count": 15,
   "metadata": {},
   "outputs": [],
   "source": [
    "class Solution:\n",
    "    # @param A : string\n",
    "    # @return a strings\n",
    "    def reverse(self,A,s,e):\n",
    "        while s<e:\n",
    "            A[s],A[e] = A[e],A[s]\n",
    "            s += 1\n",
    "            e -= 1\n",
    "        return A\n",
    "    def strip(self, A):\n",
    "        for i in range(len(A)):\n",
    "            if A[i] != \" \":\n",
    "                A = A[i:]\n",
    "                break \n",
    "        for i in range(len(A)-1,-1,-1):\n",
    "            if A[i] != \" \":\n",
    "                A = A[:i+1]\n",
    "                break\n",
    "        return A     \n",
    "\n",
    "    def solve(self, A):\n",
    "        A = list(A)\n",
    "        A = self.reverse(A,0,len(A)-1)\n",
    "        A.append(\" \")\n",
    "        i,j =0,0\n",
    "        while j<len(A):\n",
    "            while A[j] != \" \":\n",
    "                j += 1\n",
    "            \n",
    "            A = self.reverse(A,i,j-1)\n",
    "            j += 1\n",
    "            i = j\n",
    "        \n",
    "        A = \"\".join(A)\n",
    "        A = self.strip(A)\n",
    "        return A"
   ]
  },
  {
   "cell_type": "code",
   "execution_count": null,
   "metadata": {},
   "outputs": [],
   "source": [
    "def prefixSum(self,A,B):\n",
    "        aux = []\n",
    "        curr = sum(A[:B])\n",
    "        aux.append(curr)\n",
    "        for i in range(B, len(A)):\n",
    "            curr = curr+A[i]-A[i-B]\n",
    "            aux.append(curr)\n",
    "        return aux\n",
    "\n",
    "print(prefixSum([1,2,3,4,5], 3))"
   ]
  },
  {
   "cell_type": "code",
   "execution_count": 6,
   "metadata": {},
   "outputs": [
    {
     "data": {
      "text/plain": [
       "{'a': 2,\n",
       " 'b': 3,\n",
       " 'c': 3,\n",
       " 'd': 2,\n",
       " 'e': 1,\n",
       " 'f': 2,\n",
       " 'g': 2,\n",
       " 'h': 2,\n",
       " 'i': 1,\n",
       " 'j': 2,\n",
       " 'k': 2,\n",
       " 'l': 2,\n",
       " 'm': 3,\n",
       " 'n': 3,\n",
       " 'o': 1,\n",
       " 'p': 1,\n",
       " 'q': 1,\n",
       " 'r': 1,\n",
       " 's': 2,\n",
       " 't': 1,\n",
       " 'u': 1,\n",
       " 'v': 3,\n",
       " 'w': 1,\n",
       " 'x': 3,\n",
       " 'y': 1,\n",
       " 'z': 3}"
      ]
     },
     "execution_count": 6,
     "metadata": {},
     "output_type": "execute_result"
    }
   ],
   "source": [
    "\n",
    "first_row = \"qwertyuiop\"\n",
    "second_row = \"asdfghjkl\"\n",
    "third_row = \"zxcvbnm\"\n",
    "cat_dic = {}\n",
    "cat_no = 0\n",
    "for i in range(97, 123):\n",
    "    if chr(i) in first_row: cat_no = 1 \n",
    "    elif chr(i) in second_row: cat_no = 2\n",
    "    else: cat_no = 3\n",
    "    cat_dic[chr(i)] = cat_no\n",
    "cat_dic"
   ]
  },
  {
   "cell_type": "code",
   "execution_count": 8,
   "metadata": {},
   "outputs": [
    {
     "data": {
      "text/plain": [
       "'hello'"
      ]
     },
     "execution_count": 8,
     "metadata": {},
     "output_type": "execute_result"
    }
   ],
   "source": [
    "words = [\"Hello\",\"Alaska\",\"Dad\",\"Peace\"]\n",
    "words = words[0].lower()\n",
    "words"
   ]
  },
  {
   "cell_type": "code",
   "execution_count": 22,
   "metadata": {},
   "outputs": [
    {
     "ename": "TypeError",
     "evalue": "'NoneType' object is not subscriptable",
     "output_type": "error",
     "traceback": [
      "\u001b[1;31m---------------------------------------------------------------------------\u001b[0m",
      "\u001b[1;31mTypeError\u001b[0m                                 Traceback (most recent call last)",
      "Cell \u001b[1;32mIn[22], line 22\u001b[0m\n\u001b[0;32m     20\u001b[0m         \u001b[39mreturn\u001b[39;00m ans\n\u001b[0;32m     21\u001b[0m words \u001b[39m=\u001b[39m [\u001b[39m\"\u001b[39m\u001b[39mHello\u001b[39m\u001b[39m\"\u001b[39m,\u001b[39m\"\u001b[39m\u001b[39mAlaska\u001b[39m\u001b[39m\"\u001b[39m,\u001b[39m\"\u001b[39m\u001b[39mDad\u001b[39m\u001b[39m\"\u001b[39m,\u001b[39m\"\u001b[39m\u001b[39mPeace\u001b[39m\u001b[39m\"\u001b[39m]\n\u001b[1;32m---> 22\u001b[0m \u001b[39mprint\u001b[39m(Solution()\u001b[39m.\u001b[39;49mfindWords(words))\n\u001b[0;32m     23\u001b[0m \u001b[39mprint\u001b[39m(Solution()\u001b[39m.\u001b[39mcategoryDic())\n",
      "Cell \u001b[1;32mIn[22], line 17\u001b[0m, in \u001b[0;36mSolution.findWords\u001b[1;34m(self, words)\u001b[0m\n\u001b[0;32m     15\u001b[0m cnt \u001b[39m=\u001b[39m \u001b[39mset\u001b[39m()\n\u001b[0;32m     16\u001b[0m \u001b[39mfor\u001b[39;00m ch \u001b[39min\u001b[39;00m word:\n\u001b[1;32m---> 17\u001b[0m     cnt\u001b[39m.\u001b[39madd(cat_dic[ch])\n\u001b[0;32m     18\u001b[0m \u001b[39mif\u001b[39;00m \u001b[39mlen\u001b[39m(cnt) \u001b[39m==\u001b[39m \u001b[39m1\u001b[39m:\n\u001b[0;32m     19\u001b[0m     ans\u001b[39m.\u001b[39mappend(word)\n",
      "\u001b[1;31mTypeError\u001b[0m: 'NoneType' object is not subscriptable"
     ]
    }
   ],
   "source": [
    "class Solution(object):\n",
    "    def categoryDic(self):\n",
    "        cat_dic = {}\n",
    "        cat_no = 0\n",
    "        for i in range(97, 123):\n",
    "            if chr(i) in \"qwertyuiop\": cat_no = 1 \n",
    "            elif chr(i) in \"asdfghjkl\": cat_no = 2\n",
    "            elif chr(i) in \"zxcvbnm\": cat_no = 3\n",
    "            cat_dic[chr(i)] = cat_no\n",
    "    def findWords(self, words):\n",
    "        cat_dic = self.categoryDic()\n",
    "        ans = []\n",
    "        for word in words:\n",
    "            word = word.lower()\n",
    "            cnt = set()\n",
    "            for ch in word:\n",
    "                cnt.add(cat_dic[ch])\n",
    "            if len(cnt) == 1:\n",
    "                ans.append(word)\n",
    "        return ans\n",
    "words = [\"Hello\",\"Alaska\",\"Dad\",\"Peace\"]\n",
    "print(Solution().findWords(words))\n",
    "print(Solution().categoryDic())"
   ]
  },
  {
   "cell_type": "code",
   "execution_count": 13,
   "metadata": {},
   "outputs": [],
   "source": [
    "count = set()\n",
    "count.add(1)"
   ]
  },
  {
   "cell_type": "code",
   "execution_count": 1,
   "metadata": {},
   "outputs": [],
   "source": [
    "import numpy as np"
   ]
  },
  {
   "cell_type": "code",
   "execution_count": 14,
   "metadata": {},
   "outputs": [],
   "source": [
    "array = np.random.randint(1, 101, size=(5,5))"
   ]
  },
  {
   "cell_type": "code",
   "execution_count": 15,
   "metadata": {},
   "outputs": [
    {
     "ename": "ValueError",
     "evalue": "The truth value of an array with more than one element is ambiguous. Use a.any() or a.all()",
     "output_type": "error",
     "traceback": [
      "\u001b[1;31m---------------------------------------------------------------------------\u001b[0m",
      "\u001b[1;31mValueError\u001b[0m                                Traceback (most recent call last)",
      "Cell \u001b[1;32mIn[15], line 1\u001b[0m\n\u001b[1;32m----> 1\u001b[0m array[array \u001b[39m>\u001b[39m \u001b[39m50\u001b[39m \u001b[39mand\u001b[39;00m array \u001b[39m<\u001b[39m \u001b[39m80\u001b[39m]\n",
      "\u001b[1;31mValueError\u001b[0m: The truth value of an array with more than one element is ambiguous. Use a.any() or a.all()"
     ]
    }
   ],
   "source": [
    "array[array > 50 and array < 80]"
   ]
  },
  {
   "cell_type": "code",
   "execution_count": 8,
   "metadata": {},
   "outputs": [],
   "source": [
    "array[array != 0]=1"
   ]
  },
  {
   "cell_type": "code",
   "execution_count": 18,
   "metadata": {},
   "outputs": [
    {
     "data": {
      "text/plain": [
       "array([0, 1, 2, 3, 4])"
      ]
     },
     "execution_count": 18,
     "metadata": {},
     "output_type": "execute_result"
    }
   ],
   "source": [
    "a = np.arange(5)\n",
    "a"
   ]
  },
  {
   "cell_type": "code",
   "execution_count": 19,
   "metadata": {},
   "outputs": [
    {
     "data": {
      "text/plain": [
       "array([ 0,  1,  4,  9, 16])"
      ]
     },
     "execution_count": 19,
     "metadata": {},
     "output_type": "execute_result"
    }
   ],
   "source": [
    "a*a"
   ]
  },
  {
   "cell_type": "code",
   "execution_count": 20,
   "metadata": {},
   "outputs": [
    {
     "data": {
      "text/plain": [
       "array([ 0,  1,  4,  9, 16])"
      ]
     },
     "execution_count": 20,
     "metadata": {},
     "output_type": "execute_result"
    }
   ],
   "source": [
    "np.vectorize(np.square)(a)"
   ]
  },
  {
   "cell_type": "code",
   "execution_count": 22,
   "metadata": {},
   "outputs": [
    {
     "data": {
      "text/plain": [
       "array([ 0,  1,  4,  9, 16])"
      ]
     },
     "execution_count": 22,
     "metadata": {},
     "output_type": "execute_result"
    }
   ],
   "source": [
    "np.array([i*i for i in a])"
   ]
  },
  {
   "cell_type": "code",
   "execution_count": 29,
   "metadata": {},
   "outputs": [
    {
     "data": {
      "text/plain": [
       "[0, 1, 2, 3, 4, 5, 6, 7, 8, 9]"
      ]
     },
     "execution_count": 29,
     "metadata": {},
     "output_type": "execute_result"
    }
   ],
   "source": [
    "arr = list(range(0, 10))\n",
    "arr"
   ]
  },
  {
   "cell_type": "code",
   "execution_count": null,
   "metadata": {},
   "outputs": [],
   "source": []
  },
  {
   "cell_type": "code",
   "execution_count": 32,
   "metadata": {},
   "outputs": [
    {
     "ename": "AttributeError",
     "evalue": "'list' object has no attribute 'mean'",
     "output_type": "error",
     "traceback": [
      "\u001b[1;31m---------------------------------------------------------------------------\u001b[0m",
      "\u001b[1;31mAttributeError\u001b[0m                            Traceback (most recent call last)",
      "Cell \u001b[1;32mIn[32], line 9\u001b[0m\n\u001b[0;32m      7\u001b[0m         odd\u001b[39m.\u001b[39mappend(n)\n\u001b[0;32m      8\u001b[0m even, odd\n\u001b[1;32m----> 9\u001b[0m even\u001b[39m.\u001b[39;49mmean\n",
      "\u001b[1;31mAttributeError\u001b[0m: 'list' object has no attribute 'mean'"
     ]
    }
   ],
   "source": [
    "even = []\n",
    "odd = []\n",
    "for n in arr:\n",
    "    if n % 2 == 0:\n",
    "        even.append(n)\n",
    "    else:\n",
    "        odd.append(n)\n",
    "even, odd\n"
   ]
  },
  {
   "cell_type": "code",
   "execution_count": 35,
   "metadata": {},
   "outputs": [
    {
     "ename": "AttributeError",
     "evalue": "'list' object has no attribute 'sum'",
     "output_type": "error",
     "traceback": [
      "\u001b[1;31m---------------------------------------------------------------------------\u001b[0m",
      "\u001b[1;31mAttributeError\u001b[0m                            Traceback (most recent call last)",
      "Cell \u001b[1;32mIn[35], line 1\u001b[0m\n\u001b[1;32m----> 1\u001b[0m even\u001b[39m.\u001b[39;49msum()\n",
      "\u001b[1;31mAttributeError\u001b[0m: 'list' object has no attribute 'sum'"
     ]
    }
   ],
   "source": [
    "even.sum()"
   ]
  },
  {
   "cell_type": "code",
   "execution_count": 38,
   "metadata": {},
   "outputs": [
    {
     "data": {
      "text/plain": [
       "4.0"
      ]
     },
     "execution_count": 38,
     "metadata": {},
     "output_type": "execute_result"
    }
   ],
   "source": [
    "(sum(even))/5"
   ]
  },
  {
   "cell_type": "code",
   "execution_count": 1,
   "metadata": {},
   "outputs": [
    {
     "name": "stdout",
     "output_type": "stream",
     "text": [
      "lose win\n"
     ]
    }
   ],
   "source": [
    "class Football:\n",
    "  final_res = \"lose\"\n",
    "  def __init__(self, name, score):\n",
    "    self.name = name\n",
    "    self.score = score\n",
    "    self.final_res = \"lose\"\n",
    "  def calc(self, winning_score):\n",
    "    if self.score > winning_score:\n",
    "       self.final_res = \"win\"\n",
    "\n",
    "match = Football(\"Juventus\", 3)\n",
    "match.calc(2)\n",
    "print(Football.final_res, match.final_res)"
   ]
  },
  {
   "cell_type": "code",
   "execution_count": 4,
   "metadata": {},
   "outputs": [
    {
     "name": "stdout",
     "output_type": "stream",
     "text": [
      "Hello World\n"
     ]
    },
    {
     "data": {
      "text/plain": [
       "<__main__.NewClass at 0x1f75ff97c70>"
      ]
     },
     "execution_count": 4,
     "metadata": {},
     "output_type": "execute_result"
    }
   ],
   "source": [
    "class NewClass:\n",
    "    print(\"Hello World\")\n",
    "\n",
    "NewClass()\n"
   ]
  },
  {
   "cell_type": "code",
   "execution_count": 5,
   "metadata": {},
   "outputs": [],
   "source": [
    "\n",
    "A = NewClass()\n"
   ]
  },
  {
   "cell_type": "code",
   "execution_count": 6,
   "metadata": {},
   "outputs": [],
   "source": [
    "B = NewClass"
   ]
  },
  {
   "cell_type": "code",
   "execution_count": 7,
   "metadata": {},
   "outputs": [
    {
     "data": {
      "text/plain": [
       "<__main__.NewClass at 0x1f75f8405e0>"
      ]
     },
     "execution_count": 7,
     "metadata": {},
     "output_type": "execute_result"
    }
   ],
   "source": [
    "\n",
    "NewClass()"
   ]
  },
  {
   "cell_type": "code",
   "execution_count": 1,
   "metadata": {},
   "outputs": [
    {
     "name": "stdout",
     "output_type": "stream",
     "text": [
      "243\n"
     ]
    }
   ],
   "source": [
    "def bar(x,y):\n",
    "    if y == 0:\n",
    "        return 0\n",
    "    return (x+bar(x, y-1))\n",
    "\n",
    "def foo(x, y):\n",
    "    if y == 0:\n",
    "        return 1\n",
    "    return bar(x, foo(x, y-1))\n",
    "\n",
    "print(foo(3, 5))"
   ]
  },
  {
   "cell_type": "code",
   "execution_count": 2,
   "metadata": {},
   "outputs": [
    {
     "name": "stdout",
     "output_type": "stream",
     "text": [
      "1024\n"
     ]
    }
   ],
   "source": [
    "def fun(x, n):\n",
    "    if (n == 0):\n",
    "        return 1\n",
    "    elif n%2==0:\n",
    "        return fun(x*x, n//2)\n",
    "    else:\n",
    "        return x*fun(x*x, (n-1)//2)\n",
    "\n",
    "print(fun(2, 10))"
   ]
  }
 ],
 "metadata": {
  "kernelspec": {
   "display_name": "Python 3",
   "language": "python",
   "name": "python3"
  },
  "language_info": {
   "codemirror_mode": {
    "name": "ipython",
    "version": 3
   },
   "file_extension": ".py",
   "mimetype": "text/x-python",
   "name": "python",
   "nbconvert_exporter": "python",
   "pygments_lexer": "ipython3",
   "version": "3.10.11"
  },
  "orig_nbformat": 4,
  "vscode": {
   "interpreter": {
    "hash": "f8048d823ac758c079b9f29ef30bbbc9b1138746b4add2d8fb5759ec4a242e2c"
   }
  }
 },
 "nbformat": 4,
 "nbformat_minor": 2
}
