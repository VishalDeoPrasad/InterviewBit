{
 "cells": [
  {
   "cell_type": "code",
   "execution_count": 2,
   "metadata": {},
   "outputs": [],
   "source": [
    "def assign_cookies(greed_factors, cookie_sizes):\n",
    "    if len(greed_factors) == 0 or len(cookie_sizes) == 0:\n",
    "        return 0\n",
    "    \n",
    "    res = 0\n",
    "    greed_factors, cookie_sizes = sorted(greed_factors), sorted(cookie_sizes)\n",
    "    while cookie_sizes and greed_factors:\n",
    "        cookie = cookie_sizes.pop()\n",
    "        while greed_factors:\n",
    "            greed = greed_factors.pop()\n",
    "            if greed <= cookie:\n",
    "                res += 1\n",
    "                break\n",
    "    return res"
   ]
  },
  {
   "cell_type": "code",
   "execution_count": 3,
   "metadata": {},
   "outputs": [
    {
     "data": {
      "text/plain": [
       "3"
      ]
     },
     "execution_count": 3,
     "metadata": {},
     "output_type": "execute_result"
    }
   ],
   "source": [
    "greed_factors = [1, 2, 3] \n",
    "cookie_sizes = [1, 1, 2, 3] \n",
    "assign_cookies(greed_factors, cookie_sizes)"
   ]
  }
 ],
 "metadata": {
  "kernelspec": {
   "display_name": "Python 3",
   "language": "python",
   "name": "python3"
  },
  "language_info": {
   "codemirror_mode": {
    "name": "ipython",
    "version": 3
   },
   "file_extension": ".py",
   "mimetype": "text/x-python",
   "name": "python",
   "nbconvert_exporter": "python",
   "pygments_lexer": "ipython3",
   "version": "3.12.2"
  }
 },
 "nbformat": 4,
 "nbformat_minor": 2
}
