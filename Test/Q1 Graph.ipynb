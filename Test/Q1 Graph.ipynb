{
 "cells": [
  {
   "cell_type": "code",
   "execution_count": 1,
   "metadata": {},
   "outputs": [],
   "source": [
    "def bellman_ford(graph, source):\n",
    "    distance = {vertex: float('inf') for vertex in graph}\n",
    "    parent = {vertex: None for vertex in graph}\n",
    "    distance[source] = 0\n",
    "\n",
    "    for _ in range(len(graph) - 1):\n",
    "        for u in graph:\n",
    "            for v, weight in graph[u]:\n",
    "                if distance[u] + weight < distance[v]:\n",
    "                    distance[v] = distance[u] + weight\n",
    "                    parent[v] = u\n",
    "\n",
    "    for u in graph:\n",
    "        for v, weight in graph[u]:\n",
    "            if distance[u] + weight < distance[v]:\n",
    "                raise ValueError(\"Graph contains a negative cycle\")\n",
    "\n",
    "    return distance, parent"
   ]
  },
  {
   "cell_type": "code",
   "execution_count": 2,
   "metadata": {},
   "outputs": [],
   "source": [
    "def shortest_path_with_negative_weights(graph, source, target):\n",
    "    distance, parent = bellman_ford(graph, source)\n",
    "    path = []\n",
    "\n",
    "    if distance[target] == float('inf'):\n",
    "        return path\n",
    "\n",
    "    current = target\n",
    "    while current:\n",
    "        path.append(current)\n",
    "        current = parent[current]\n",
    "\n",
    "    return path[::-1]\n"
   ]
  },
  {
   "cell_type": "code",
   "execution_count": 3,
   "metadata": {},
   "outputs": [
    {
     "name": "stdout",
     "output_type": "stream",
     "text": [
      "['A', 'C', 'D']\n"
     ]
    }
   ],
   "source": [
    "# Example usage\n",
    "graph = {\n",
    "    'A': [('B', 5), ('C', -3)],\n",
    "    'B': [('C', 2), ('D', 6)],\n",
    "    'C': [('D', -7)],\n",
    "    'D': []\n",
    "}\n",
    "source = 'A'\n",
    "target = 'D'\n",
    "print(shortest_path_with_negative_weights(graph, source, target))  # Output: ['A', 'C', 'D']"
   ]
  },
  {
   "cell_type": "code",
   "execution_count": 1,
   "metadata": {},
   "outputs": [
    {
     "data": {
      "text/plain": [
       "0"
      ]
     },
     "execution_count": 1,
     "metadata": {},
     "output_type": "execute_result"
    }
   ],
   "source": [
    "0%2"
   ]
  }
 ],
 "metadata": {
  "kernelspec": {
   "display_name": "Python 3",
   "language": "python",
   "name": "python3"
  },
  "language_info": {
   "codemirror_mode": {
    "name": "ipython",
    "version": 3
   },
   "file_extension": ".py",
   "mimetype": "text/x-python",
   "name": "python",
   "nbconvert_exporter": "python",
   "pygments_lexer": "ipython3",
   "version": "3.12.2"
  }
 },
 "nbformat": 4,
 "nbformat_minor": 2
}
