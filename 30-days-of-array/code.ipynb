{
 "cells": [
  {
   "cell_type": "markdown",
   "metadata": {},
   "source": [
    "Q1. Given an array A of size N, Groot wants you to pick 2 indices i and j such that\n",
    "1. 1 <=i, j<=N\n",
    "1. A[i] % A[j] is maximum among all possible pairs of (i,j) <br>\n",
    "help Groot in finding the maximum value of A[i]%A[j] for some i,j."
   ]
  },
  {
   "cell_type": "code",
   "execution_count": 7,
   "metadata": {},
   "outputs": [
    {
     "data": {
      "text/plain": [
       "4"
      ]
     },
     "execution_count": 7,
     "metadata": {},
     "output_type": "execute_result"
    }
   ],
   "source": [
    "class Solution:\n",
    "    # @param A : list of integers\n",
    "    # @return an integer\n",
    "    def solve(self, A):\n",
    "        n = len(A)\n",
    "        max_mod = -999999999\n",
    "        for i in range(n):\n",
    "            for j in range(n):\n",
    "                if i != j and A[j] != 0:\n",
    "                    temp = A[i] % A[j]\n",
    "                    if max_mod < temp:\n",
    "                        max_mod = temp\n",
    "        return max_mod"
   ]
  },
  {
   "cell_type": "code",
   "execution_count": null,
   "metadata": {},
   "outputs": [],
   "source": [
    "class Solution:\n",
    "    # @param A : list of integers\n",
    "    # @return an integer\n",
    "    def solve(self, A):\n",
    "        A = list(set(A))\n",
    "        if len(A) < 2:\n",
    "            return 0\n",
    "        first_max = max(A)\n",
    "        idx = A.index(first_max)\n",
    "        A.pop(idx)\n",
    "        \n",
    "        second_max = max(A)\n",
    "        \n",
    "        return second_max % first_max"
   ]
  }
 ],
 "metadata": {
  "kernelspec": {
   "display_name": "Python 3",
   "language": "python",
   "name": "python3"
  },
  "language_info": {
   "codemirror_mode": {
    "name": "ipython",
    "version": 3
   },
   "file_extension": ".py",
   "mimetype": "text/x-python",
   "name": "python",
   "nbconvert_exporter": "python",
   "pygments_lexer": "ipython3",
   "version": "3.12.2"
  }
 },
 "nbformat": 4,
 "nbformat_minor": 2
}
